{
 "cells": [
  {
   "cell_type": "markdown",
   "metadata": {},
   "source": [
    "# Report counts of GO terms at various levels and depths\n",
    "\n",
    "Reports the number of GO terms at each level and depth.   \n",
    "\n",
    "  * **Level** refers to the length of the shortest path from the top.   \n",
    "  * **Depth** refers to the length of the longest path from the top.\n",
    "\n",
    "See the Gene Ontology Consorium's (GOC) advice regarding \n",
    "[levels and depths of a GO term](http://geneontology.org/faq/how-can-i-calculate-level-go-term)\n",
    "    \n",
    "## GO level and depth reporting\n",
    "\n",
    "GO terms reported can be all GO terms in an ontology.     \n",
    "Or subsets of GO terms can be reported.     \n",
    "GO subset examples include all GO terms annotated for a species or all GO terms in a study.\n",
    "\n",
    "Example report on full Ontology:\n",
    "\n",
    "```\n",
    "go-basic.obo: fmt(1.2) rel(2019-01-12) 47,374 GO Terms\n",
    "\n",
    "Summary for all Ontologies:\n",
    "Dep <-Depth Counts->  <-Level Counts->\n",
    "Lev   BP    MF    CC    BP    MF    CC\n",
    "--- ----  ----  ----  ----  ----  ----\n",
    "00     1     1     1     1     1     1\n",
    "01    29    16    21    29    16    21\n",
    "02   264   125   345   421   154   746\n",
    "03  1273   570   494  2205   866  1073\n",
    "04  2376  1516   735  4825  2072  1359\n",
    "05  3692  4801   913  7297  5035   697\n",
    "06  4474  1834   787  7287  1934   230\n",
    "07  4699  1029   600  4696   728    68\n",
    "08  4214   508   254  2018   194    10\n",
    "09  3516   312    51   631    79     1\n",
    "10  2399   153     4   241    13     0\n",
    "11  1511   140     1    38    19     0\n",
    "12   854    42     0     0     0     0\n",
    "13   303    35     0     0     0     0\n",
    "14    66    21     0     0     0     0\n",
    "15    14     7     0     0     0     0\n",
    "16     4     1     0     0     0     0\n",
    "\n",
    "```"
   ]
  },
  {
   "cell_type": "markdown",
   "metadata": {},
   "source": [
    "## 1. Download Ontologies, if necessary"
   ]
  },
  {
   "cell_type": "code",
   "execution_count": 1,
   "metadata": {},
   "outputs": [
    {
     "name": "stdout",
     "output_type": "stream",
     "text": [
      "  EXISTS: go-basic.obo\n"
     ]
    }
   ],
   "source": [
    "# Get http://geneontology.org/ontology/go-basic.obo\n",
    "from goatools.base import download_go_basic_obo\n",
    "obo_fname = download_go_basic_obo()"
   ]
  },
  {
   "cell_type": "markdown",
   "metadata": {},
   "source": [
    "## 2. Download Associations, if necessary"
   ]
  },
  {
   "cell_type": "code",
   "execution_count": 2,
   "metadata": {},
   "outputs": [
    {
     "name": "stdout",
     "output_type": "stream",
     "text": [
      "  EXISTS: gene2go\n"
     ]
    }
   ],
   "source": [
    "# Get ftp://ftp.ncbi.nlm.nih.gov/gene/DATA/gene2go.gz\n",
    "from goatools.base import download_ncbi_associations\n",
    "gene2go = download_ncbi_associations()"
   ]
  },
  {
   "cell_type": "markdown",
   "metadata": {},
   "source": [
    "## 3. Initialize GODag object"
   ]
  },
  {
   "cell_type": "code",
   "execution_count": 3,
   "metadata": {},
   "outputs": [
    {
     "name": "stdout",
     "output_type": "stream",
     "text": [
      "go-basic.obo: fmt(1.2) rel(2019-04-17) 47,398 GO Terms\n"
     ]
    }
   ],
   "source": [
    "from goatools.obo_parser import GODag\n",
    "\n",
    "obodag = GODag(\"go-basic.obo\")"
   ]
  },
  {
   "cell_type": "markdown",
   "metadata": {},
   "source": [
    "## 4. Initialize Reporter class"
   ]
  },
  {
   "cell_type": "code",
   "execution_count": 4,
   "metadata": {},
   "outputs": [],
   "source": [
    "from goatools.rpt.rpt_lev_depth import RptLevDepth\n",
    "\n",
    "rptobj = RptLevDepth(obodag)"
   ]
  },
  {
   "cell_type": "markdown",
   "metadata": {},
   "source": [
    "## 5. Generate depth/level report for all GO terms"
   ]
  },
  {
   "cell_type": "code",
   "execution_count": 5,
   "metadata": {},
   "outputs": [
    {
     "name": "stdout",
     "output_type": "stream",
     "text": [
      "Dep <-Depth Counts->  <-Level Counts->\n",
      "Lev   BP    MF    CC    BP    MF    CC\n",
      "--- ----  ----  ----  ----  ----  ----\n",
      "00     1     1     1     1     1     1\n",
      "01    29    18    21    29    18    21\n",
      "02   268   128   344   426   156   747\n",
      "03  1279   576   489  2223   870  1065\n",
      "04  2387  1511   730  4823  2031  1358\n",
      "05  3687  4802   913  7300  5026   697\n",
      "06  4485  1834   789  7309  1963   232\n",
      "07  4713  1033   603  4671   744    68\n",
      "08  4237   506   254  2011   194    10\n",
      "09  3521   309    51   630    78     1\n",
      "10  2390   151     4   243    13     0\n",
      "11  1498   136     1    38    19     0\n",
      "12   830    41     0     0     0     0\n",
      "13   295    36     0     0     0     0\n",
      "14    67    23     0     0     0     0\n",
      "15    13     7     0     0     0     0\n",
      "16     4     1     0     0     0     0\n"
     ]
    }
   ],
   "source": [
    "rptobj.write_summary_cnts_all()"
   ]
  },
  {
   "cell_type": "markdown",
   "metadata": {},
   "source": [
    "Copyright (C) 2016-2019, DV Klopfenstein, H Tang. All rights reserved."
   ]
  }
 ],
 "metadata": {
  "kernelspec": {
   "display_name": "Python 3",
   "language": "python",
   "name": "python3"
  },
  "language_info": {
   "codemirror_mode": {
    "name": "ipython",
    "version": 3
   },
   "file_extension": ".py",
   "mimetype": "text/x-python",
   "name": "python",
   "nbconvert_exporter": "python",
   "pygments_lexer": "ipython3",
   "version": "3.6.7"
  }
 },
 "nbformat": 4,
 "nbformat_minor": 1
}
